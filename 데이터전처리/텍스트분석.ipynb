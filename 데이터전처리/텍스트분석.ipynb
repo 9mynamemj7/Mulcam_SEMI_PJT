{
 "cells": [
  {
   "cell_type": "markdown",
   "metadata": {},
   "source": [
    "## 감정분석"
   ]
  },
  {
   "cell_type": "markdown",
   "metadata": {},
   "source": [
    "### 인스타그램에서 크롤링 해 온 데이터(영어)를 긍부정 검사, 긍부정 개수 확인 "
   ]
  },
  {
   "cell_type": "markdown",
   "metadata": {},
   "source": [
    "#### 1. afinn(영어 긍부정 감정사전) 활용 점수화"
   ]
  },
  {
   "cell_type": "code",
   "execution_count": 35,
   "metadata": {},
   "outputs": [],
   "source": [
    "import pandas as pd\n",
    "from afinn import Afinn\n",
    "import numpy as np\n",
    "import matplotlib.pyplot as plt"
   ]
  },
  {
   "cell_type": "code",
   "execution_count": 36,
   "metadata": {},
   "outputs": [
    {
     "name": "stderr",
     "output_type": "stream",
     "text": [
      "C:\\Users\\Public\\Documents\\ESTsoft\\CreatorTemp\\ipykernel_15228\\354392695.py:2: FutureWarning: The default value of regex will change from True to False in a future version.\n",
      "  df_wheat.main_text = df_wheat.main_text.str.replace('[^A-Za-z]',' ').str.strip()\n"
     ]
    },
    {
     "name": "stdout",
     "output_type": "stream",
     "text": [
      "긍정: 241, 중립: 200, 부정: 59  // 개수\n",
      "\n"
     ]
    },
    {
     "data": {
      "image/png": "[encoded data removed]",
      "text/plain": [
       "<Figure size 432x288 with 1 Axes>"
      ]
     },
     "metadata": {},
     "output_type": "display_data"
    },
    {
     "name": "stdout",
     "output_type": "stream",
     "text": [
      "점수: 1234.0\n"
     ]
    }
   ],
   "source": [
    "df_wheat = pd.read_csv(\"../data/감성분석/crawling/instagram_Wheat.csv\")\n",
    "df_wheat.main_text = df_wheat.main_text.str.replace('[^A-Za-z]',' ').str.strip()\n",
    "\n",
    "positive = 0\n",
    "neutral = 0\n",
    "negative = 0\n",
    "total = 0\n",
    "\n",
    "for i in df_wheat.main_text:\n",
    "    score = Afinn().score(i)\n",
    "    if score > 0:\n",
    "        positive += 1\n",
    "    elif score == 0:\n",
    "        neutral += 1\n",
    "    else:\n",
    "        negative += 1\n",
    "    total += score\n",
    "print(f\"긍정: {positive}, 중립: {neutral}, 부정: {negative}  // 개수\\n\")\n",
    "plt.bar(np.arange(3), [positive, neutral, negative])\n",
    "plt.xticks(np.arange(3), ['positive', 'neutral', 'negative'])\n",
    "plt.show()\n",
    "print(\"점수:\",total)\n"
   ]
  },
  {
   "cell_type": "code",
   "execution_count": null,
   "metadata": {},
   "outputs": [],
   "source": []
  },
  {
   "cell_type": "markdown",
   "metadata": {},
   "source": [
    "#### 2. 수업내용 활용 이진분류"
   ]
  },
  {
   "cell_type": "markdown",
   "metadata": {},
   "source": [
    "    - cvect, nb"
   ]
  },
  {
   "cell_type": "code",
   "execution_count": 36,
   "metadata": {},
   "outputs": [],
   "source": [
    "import numpy as np\n",
    "import pandas as pd\n",
    "import matplotlib.pyplot as plt\n",
    "from sklearn.model_selection import train_test_split\n",
    "from sklearn.feature_extraction.text import CountVectorizer\n",
    "from sklearn.naive_bayes import MultinomialNB\n",
    "nb = MultinomialNB()\n",
    "import joblib"
   ]
  },
  {
   "cell_type": "code",
   "execution_count": 37,
   "metadata": {},
   "outputs": [
    {
     "name": "stderr",
     "output_type": "stream",
     "text": [
      "C:\\Users\\Public\\Documents\\ESTsoft\\CreatorTemp\\ipykernel_3108\\664746291.py:4: FutureWarning: The default value of regex will change from True to False in a future version.\n",
      "  df_eng_train.review = df_eng_train.review.str.replace('[^A-Za-z]',' ').str.strip()\n"
     ]
    },
    {
     "name": "stdout",
     "output_type": "stream",
     "text": [
      "0.86768\n"
     ]
    }
   ],
   "source": [
    "df_eng_train = pd.read_csv('../data/감성분석/kor_train_data/labeledTrainData.tsv', sep='\\t', quoting=3)\n",
    "\n",
    "df_eng_train.review = df_eng_train.review.str.replace('<br />','')\n",
    "df_eng_train.review = df_eng_train.review.str.replace('[^A-Za-z]',' ').str.strip()\n",
    "\n",
    "# Train/Test dataset 분리\n",
    "X_train, X_test, y_train, y_test = train_test_split(\n",
    "    df_eng_train.review, df_eng_train.sentiment, stratify=df_eng_train.sentiment, random_state=2022\n",
    ")\n",
    "\n",
    "# CountVectorizer로 변환\n",
    "cvect = CountVectorizer(ngram_range=(1,2), stop_words='english')\n",
    "cvect.fit(X_train)\n",
    "X_train_cv = cvect.transform(X_train)\n",
    "X_test_cv = cvect.transform(X_test)\n",
    "\n",
    "# 분류기: Naive Bayes\n",
    "nb.fit(X_train_cv, y_train)\n",
    "print(nb.score(X_test_cv, y_test))\n"
   ]
  },
  {
   "cell_type": "code",
   "execution_count": 39,
   "metadata": {},
   "outputs": [
    {
     "name": "stdout",
     "output_type": "stream",
     "text": [
      "긍정: 253, 부정: 247  // 개수\n"
     ]
    },
    {
     "data": {
      "image/png": "[encoded data removed]",
      "text/plain": [
       "<Figure size 432x288 with 1 Axes>"
      ]
     },
     "metadata": {},
     "output_type": "display_data"
    }
   ],
   "source": [
    "positive = 0\n",
    "negative = 0\n",
    "\n",
    "for i in df_wheat.main_text:\n",
    "    review_cv = cvect.transform([i])\n",
    "    score = nb.predict(review_cv)\n",
    "    if score == 1:\n",
    "        positive += 1\n",
    "    else:\n",
    "        negative += 1\n",
    "\n",
    "print(f\"긍정: {positive}, 부정: {negative}  // 개수\")\n",
    "plt.bar(np.arange(2), [positive, negative])\n",
    "plt.xticks(np.arange(2), ['positive', 'negative'])\n",
    "plt.show()"
   ]
  },
  {
   "cell_type": "markdown",
   "metadata": {},
   "source": [
    "    - cvect, lr"
   ]
  },
  {
   "cell_type": "code",
   "execution_count": null,
   "metadata": {},
   "outputs": [],
   "source": [
    "import numpy as np\n",
    "import pandas as pd\n",
    "from sklearn.model_selection import train_test_split\n",
    "from sklearn.linear_model import LogisticRegression\n",
    "from sklearn.feature_extraction.text import CountVectorizer\n",
    "nb = MultinomialNB()\n",
    "import joblib\n",
    "from sklearn.model_selection import GridSearchCV\n"
   ]
  },
  {
   "cell_type": "code",
   "execution_count": 16,
   "metadata": {},
   "outputs": [
    {
     "name": "stderr",
     "output_type": "stream",
     "text": [
      "c:\\ProgramData\\Miniconda3\\envs\\kdig\\lib\\site-packages\\sklearn\\linear_model\\_logistic.py:814: ConvergenceWarning: lbfgs failed to converge (status=1):\n",
      "STOP: TOTAL NO. of ITERATIONS REACHED LIMIT.\n",
      "\n",
      "Increase the number of iterations (max_iter) or scale the data as shown in:\n",
      "    https://scikit-learn.org/stable/modules/preprocessing.html\n",
      "Please also refer to the documentation for alternative solver options:\n",
      "    https://scikit-learn.org/stable/modules/linear_model.html#logistic-regression\n",
      "  n_iter_i = _check_optimize_result(\n"
     ]
    },
    {
     "name": "stdout",
     "output_type": "stream",
     "text": [
      "CPU times: total: 2min 31s\n",
      "Wall time: 50 s\n"
     ]
    },
    {
     "data": {
      "text/plain": [
       "0.88016"
      ]
     },
     "execution_count": 16,
     "metadata": {},
     "output_type": "execute_result"
    }
   ],
   "source": [
    "cvect = CountVectorizer(ngram_range=(1,2), stop_words='english')\n",
    "lr = LogisticRegression(random_state=2022)\n",
    "pipeline = Pipeline([('CVECT', cvect), ('LR', lr)])\n",
    "%time pipeline.fit(X_train, y_train)\n",
    "pipeline.score(X_test, y_test)"
   ]
  },
  {
   "cell_type": "code",
   "execution_count": 21,
   "metadata": {},
   "outputs": [
    {
     "name": "stderr",
     "output_type": "stream",
     "text": [
      "c:\\ProgramData\\Miniconda3\\envs\\kdig\\lib\\site-packages\\sklearn\\model_selection\\_validation.py:372: FitFailedWarning: \n",
      "2 fits failed out of a total of 60.\n",
      "The score on these train-test partitions for these parameters will be set to nan.\n",
      "If these failures are not expected, you can try to debug them by setting error_score='raise'.\n",
      "\n",
      "Below are more details about the failures:\n",
      "--------------------------------------------------------------------------------\n",
      "2 fits failed with the following error:\n",
      "Traceback (most recent call last):\n",
      "  File \"c:\\ProgramData\\Miniconda3\\envs\\kdig\\lib\\site-packages\\sklearn\\model_selection\\_validation.py\", line 680, in _fit_and_score\n",
      "    estimator.fit(X_train, y_train, **fit_params)\n",
      "  File \"c:\\ProgramData\\Miniconda3\\envs\\kdig\\lib\\site-packages\\sklearn\\pipeline.py\", line 394, in fit\n",
      "    self._final_estimator.fit(Xt, y, **fit_params_last_step)\n",
      "  File \"c:\\ProgramData\\Miniconda3\\envs\\kdig\\lib\\site-packages\\sklearn\\linear_model\\_logistic.py\", line 1589, in fit\n",
      "    fold_coefs_ = Parallel(\n",
      "  File \"c:\\ProgramData\\Miniconda3\\envs\\kdig\\lib\\site-packages\\joblib\\parallel.py\", line 1043, in __call__\n",
      "    if self.dispatch_one_batch(iterator):\n",
      "  File \"c:\\ProgramData\\Miniconda3\\envs\\kdig\\lib\\site-packages\\joblib\\parallel.py\", line 861, in dispatch_one_batch\n",
      "    self._dispatch(tasks)\n",
      "  File \"c:\\ProgramData\\Miniconda3\\envs\\kdig\\lib\\site-packages\\joblib\\parallel.py\", line 779, in _dispatch\n",
      "    job = self._backend.apply_async(batch, callback=cb)\n",
      "  File \"c:\\ProgramData\\Miniconda3\\envs\\kdig\\lib\\site-packages\\joblib\\_parallel_backends.py\", line 208, in apply_async\n",
      "    result = ImmediateResult(func)\n",
      "  File \"c:\\ProgramData\\Miniconda3\\envs\\kdig\\lib\\site-packages\\joblib\\_parallel_backends.py\", line 572, in __init__\n",
      "    self.results = batch()\n",
      "  File \"c:\\ProgramData\\Miniconda3\\envs\\kdig\\lib\\site-packages\\joblib\\parallel.py\", line 262, in __call__\n",
      "    return [func(*args, **kwargs)\n",
      "  File \"c:\\ProgramData\\Miniconda3\\envs\\kdig\\lib\\site-packages\\joblib\\parallel.py\", line 262, in <listcomp>\n",
      "    return [func(*args, **kwargs)\n",
      "  File \"c:\\ProgramData\\Miniconda3\\envs\\kdig\\lib\\site-packages\\sklearn\\utils\\fixes.py\", line 216, in __call__\n",
      "    return self.function(*args, **kwargs)\n",
      "  File \"c:\\ProgramData\\Miniconda3\\envs\\kdig\\lib\\site-packages\\sklearn\\linear_model\\_logistic.py\", line 806, in _logistic_regression_path\n",
      "    opt_res = optimize.minimize(\n",
      "  File \"c:\\ProgramData\\Miniconda3\\envs\\kdig\\lib\\site-packages\\scipy\\optimize\\_minimize.py\", line 623, in minimize\n",
      "    return _minimize_lbfgsb(fun, x0, args, jac, bounds,\n",
      "  File \"c:\\ProgramData\\Miniconda3\\envs\\kdig\\lib\\site-packages\\scipy\\optimize\\lbfgsb.py\", line 337, in _minimize_lbfgsb\n",
      "    wa = zeros(2*m*n + 5*n + 11*m*m + 8*m, float64)\n",
      "numpy.core._exceptions._ArrayMemoryError: Unable to allocate 515. MiB for an array with shape (67553205,) and data type float64\n",
      "\n",
      "  warnings.warn(some_fits_failed_message, FitFailedWarning)\n",
      "c:\\ProgramData\\Miniconda3\\envs\\kdig\\lib\\site-packages\\sklearn\\model_selection\\_search.py:969: UserWarning: One or more of the test scores are non-finite: [0.87477333 0.87029333 0.88629333 0.88645333 0.88528           nan\n",
      " 0.87477333 0.87029333 0.88629333 0.88645333 0.88528           nan]\n",
      "  warnings.warn(\n",
      "c:\\ProgramData\\Miniconda3\\envs\\kdig\\lib\\site-packages\\sklearn\\linear_model\\_logistic.py:814: ConvergenceWarning: lbfgs failed to converge (status=1):\n",
      "STOP: TOTAL NO. of ITERATIONS REACHED LIMIT.\n",
      "\n",
      "Increase the number of iterations (max_iter) or scale the data as shown in:\n",
      "    https://scikit-learn.org/stable/modules/preprocessing.html\n",
      "Please also refer to the documentation for alternative solver options:\n",
      "    https://scikit-learn.org/stable/modules/linear_model.html#logistic-regression\n",
      "  n_iter_i = _check_optimize_result(\n"
     ]
    },
    {
     "data": {
      "text/plain": [
       "GridSearchCV(cv=5,\n",
       "             estimator=Pipeline(steps=[('CVECT',\n",
       "                                        CountVectorizer(ngram_range=(1, 2),\n",
       "                                                        stop_words='english')),\n",
       "                                       ('LR',\n",
       "                                        LogisticRegression(random_state=2022))]),\n",
       "             n_jobs=-1,\n",
       "             param_grid={'CVECT__max_df': [0.9, 0.99],\n",
       "                         'CVECT__ngram_range': [(1, 1), (1, 2), (1, 3)],\n",
       "                         'LR__C': [1, 5]},\n",
       "             scoring='accuracy')"
      ]
     },
     "execution_count": 21,
     "metadata": {},
     "output_type": "execute_result"
    }
   ],
   "source": [
    "# 최적 파라미터 찾기\n",
    "params = {\n",
    "    'CVECT__ngram_range': [(1,1),(1,2)],\n",
    "    'CVECT__max_df': [0.90, 0.99],\n",
    "    'LR__C': [1,5]\n",
    "}\n",
    "\n",
    "grid_pipe = GridSearchCV(pipeline, params, scoring='accuracy', cv=5, n_jobs=-1)\n",
    "grid_pipe.fit(X_train, y_train)"
   ]
  },
  {
   "cell_type": "code",
   "execution_count": 22,
   "metadata": {},
   "outputs": [
    {
     "data": {
      "text/plain": [
       "0.87824"
      ]
     },
     "execution_count": 22,
     "metadata": {},
     "output_type": "execute_result"
    }
   ],
   "source": [
    "grid_pipe.score(X_test, y_test)"
   ]
  },
  {
   "cell_type": "code",
   "execution_count": 19,
   "metadata": {},
   "outputs": [
    {
     "data": {
      "text/plain": [
       "['../data/인스타그램크롤링/영어.pkl']"
      ]
     },
     "execution_count": 19,
     "metadata": {},
     "output_type": "execute_result"
    }
   ],
   "source": [
    "# 모델 저장\n",
    "# joblib.dump(grid_pipe.best_estimator_,'../data/감성분석/model/영어.pkl')"
   ]
  },
  {
   "cell_type": "code",
   "execution_count": 46,
   "metadata": {},
   "outputs": [
    {
     "name": "stdout",
     "output_type": "stream",
     "text": [
      "긍정: 393, 부정: 107  // 개수\n"
     ]
    },
    {
     "data": {
      "image/png": "[encoded data removed]",
      "text/plain": [
       "<Figure size 432x288 with 1 Axes>"
      ]
     },
     "metadata": {},
     "output_type": "display_data"
    }
   ],
   "source": [
    "pipeline = joblib.load('../data/감성분석/model/영어.pkl')\n",
    "\n",
    "positive = 0\n",
    "negative = 0\n",
    "\n",
    "for i in df_wheat.main_text:\n",
    "    score = pipeline.predict([i])\n",
    "    if score == 1:\n",
    "        positive += 1\n",
    "    else:\n",
    "        negative += 1\n",
    "\n",
    "print(f\"긍정: {positive}, 부정: {negative}  // 개수\")\n",
    "plt.bar(np.arange(2), [positive, negative])\n",
    "plt.xticks(np.arange(2), ['positive', 'negative'])\n",
    "plt.show()"
   ]
  },
  {
   "cell_type": "markdown",
   "metadata": {},
   "source": [
    "### 인스타그램에서 크롤링 해 온 데이터(한국어)를 긍부정 검사, 긍부정 개수 확인 "
   ]
  },
  {
   "cell_type": "markdown",
   "metadata": {},
   "source": [
    "#### 1. 영화리뷰 배운내용 활용 이진분류"
   ]
  },
  {
   "cell_type": "code",
   "execution_count": 27,
   "metadata": {},
   "outputs": [],
   "source": [
    "import re\n",
    "import numpy as np\n",
    "import pandas as pd\n",
    "import matplotlib.pyplot as plt\n",
    "plt.style.use('seaborn-white')\n",
    "from konlpy.tag import Okt\n",
    "okt = Okt()\n",
    "import urllib.request\n",
    "from tqdm.notebook import tqdm\n",
    "from sklearn.feature_extraction.text import CountVectorizer\n",
    "from sklearn.linear_model import LogisticRegression\n",
    "from sklearn.pipeline import Pipeline\n",
    "from sklearn.model_selection import GridSearchCV\n",
    "import joblib\n"
   ]
  },
  {
   "cell_type": "code",
   "execution_count": 28,
   "metadata": {},
   "outputs": [
    {
     "name": "stderr",
     "output_type": "stream",
     "text": [
      "C:\\Users\\Public\\Documents\\ESTsoft\\CreatorTemp\\ipykernel_15228\\2387385312.py:17: FutureWarning: The default value of regex will change from True to False in a future version.\n",
      "  train_data['document'] = train_data['document'].str.replace(\"[^ㄱ-ㅎㅏ-ㅣ가-힣]\",\" \")\n",
      "C:\\Users\\Public\\Documents\\ESTsoft\\CreatorTemp\\ipykernel_15228\\2387385312.py:20: FutureWarning: The default value of regex will change from True to False in a future version.\n",
      "  test_data['document'] = test_data['document'].str.replace(\"[^ㄱ-ㅎㅏ-ㅣ가-힣]\",\" \")\n"
     ]
    },
    {
     "data": {
      "application/vnd.jupyter.widget-view+json": {
       "model_id": "3e66270285584e4b867a27b6e7521549",
       "version_major": 2,
       "version_minor": 0
      },
      "text/plain": [
       "  0%|          | 0/146182 [00:00<?, ?it/s]"
      ]
     },
     "metadata": {},
     "output_type": "display_data"
    },
    {
     "data": {
      "application/vnd.jupyter.widget-view+json": {
       "model_id": "5ab1ddaea8454137872d3bab556fa761",
       "version_major": 2,
       "version_minor": 0
      },
      "text/plain": [
       "  0%|          | 0/49157 [00:00<?, ?it/s]"
      ]
     },
     "metadata": {},
     "output_type": "display_data"
    }
   ],
   "source": [
    "# 영화리뷰 데이터 학습 및 테스트\n",
    "\n",
    "train_file = urllib.request.urlopen(\"https://raw.githubusercontent.com/e9t/nsmc/master/ratings_train.txt\")\n",
    "test_file = urllib.request.urlopen(\"https://raw.githubusercontent.com/e9t/nsmc/master/ratings_test.txt\")\n",
    "\n",
    "train_data = pd.read_table(train_file)\n",
    "test_data = pd.read_table(test_file)\n",
    "\n",
    "# Null 데이터 제거\n",
    "train_data.dropna(how='any', inplace=True)\n",
    "test_data.dropna(how='any', inplace=True)\n",
    "# 중복데이터 제거\n",
    "train_data.drop_duplicates(subset=['document'], inplace=True)\n",
    "test_data.drop_duplicates(subset=['document'], inplace=True)\n",
    "\n",
    "# 정규표현식\n",
    "train_data['document'] = train_data['document'].str.replace(\"[^ㄱ-ㅎㅏ-ㅣ가-힣]\",\" \")\n",
    "train_data['document'].replace(\"\",np.nan, inplace=True)\n",
    "train_data.dropna(how='any', inplace=True)\n",
    "test_data['document'] = test_data['document'].str.replace(\"[^ㄱ-ㅎㅏ-ㅣ가-힣]\",\" \")\n",
    "test_data['document'].replace(\"\",np.nan, inplace=True)\n",
    "test_data.dropna(how='any', inplace=True)\n",
    "stopwords = ['의','가','이','은','들','는','좀','잘','걍','과','도','를','으로','자','에','와','한','하다','을','ㅋㅋ','ㅠㅠ','ㅎㅎ']\n",
    "\n",
    "\n",
    "\n",
    "X_train = []\n",
    "for sentence in tqdm(train_data.document):\n",
    "    morphs = okt.morphs(sentence, stem=True)\n",
    "    tmp_str = ' '.join([word for word in morphs if word not in stopwords])\n",
    "    X_train.append(tmp_str)\n",
    "\n",
    "X_test = []\n",
    "for sentence in tqdm(test_data.document):\n",
    "    morphs = okt.morphs(sentence, stem=True)\n",
    "    tmp_str = ' '.join([word for word in morphs if word not in stopwords])\n",
    "    X_test.append(tmp_str)\n",
    "\n",
    "y_train = train_data.label.values\n",
    "y_test = test_data.label.values"
   ]
  },
  {
   "cell_type": "code",
   "execution_count": 29,
   "metadata": {},
   "outputs": [
    {
     "name": "stderr",
     "output_type": "stream",
     "text": [
      "c:\\ProgramData\\Miniconda3\\envs\\kdig\\lib\\site-packages\\sklearn\\linear_model\\_logistic.py:814: ConvergenceWarning: lbfgs failed to converge (status=1):\n",
      "STOP: TOTAL NO. of ITERATIONS REACHED LIMIT.\n",
      "\n",
      "Increase the number of iterations (max_iter) or scale the data as shown in:\n",
      "    https://scikit-learn.org/stable/modules/preprocessing.html\n",
      "Please also refer to the documentation for alternative solver options:\n",
      "    https://scikit-learn.org/stable/modules/linear_model.html#logistic-regression\n",
      "  n_iter_i = _check_optimize_result(\n"
     ]
    },
    {
     "name": "stdout",
     "output_type": "stream",
     "text": [
      "CPU times: total: 14.6 s\n",
      "Wall time: 5.34 s\n"
     ]
    },
    {
     "data": {
      "text/plain": [
       "0.82486726203796"
      ]
     },
     "execution_count": 29,
     "metadata": {},
     "output_type": "execute_result"
    }
   ],
   "source": [
    "#모델 학습, 평가\n",
    "\n",
    "cvect = CountVectorizer()\n",
    "lr = LogisticRegression(random_state=2022)\n",
    "pipeline = Pipeline([('CVECT', cvect), ('LR', lr)])\n",
    "%time pipeline.fit(X_train, y_train)\n",
    "pipeline.score(X_test, y_test)"
   ]
  },
  {
   "cell_type": "code",
   "execution_count": 30,
   "metadata": {},
   "outputs": [
    {
     "name": "stderr",
     "output_type": "stream",
     "text": [
      "c:\\ProgramData\\Miniconda3\\envs\\kdig\\lib\\site-packages\\sklearn\\linear_model\\_logistic.py:814: ConvergenceWarning: lbfgs failed to converge (status=1):\n",
      "STOP: TOTAL NO. of ITERATIONS REACHED LIMIT.\n",
      "\n",
      "Increase the number of iterations (max_iter) or scale the data as shown in:\n",
      "    https://scikit-learn.org/stable/modules/preprocessing.html\n",
      "Please also refer to the documentation for alternative solver options:\n",
      "    https://scikit-learn.org/stable/modules/linear_model.html#logistic-regression\n",
      "  n_iter_i = _check_optimize_result(\n"
     ]
    },
    {
     "data": {
      "text/plain": [
       "GridSearchCV(cv=3,\n",
       "             estimator=Pipeline(steps=[('CVECT', CountVectorizer()),\n",
       "                                       ('LR',\n",
       "                                        LogisticRegression(random_state=2022))]),\n",
       "             n_jobs=-1,\n",
       "             param_grid={'CVECT__max_df': [0.9, 0.99],\n",
       "                         'CVECT__ngram_range': [(1, 1), (1, 2)],\n",
       "                         'LR__C': [1, 5]},\n",
       "             scoring='accuracy')"
      ]
     },
     "execution_count": 30,
     "metadata": {},
     "output_type": "execute_result"
    }
   ],
   "source": [
    "# 최적 파라미터 찾기\n",
    "params = {\n",
    "    'CVECT__ngram_range': [(1,1),(1,2)],\n",
    "    'CVECT__max_df': [0.90, 0.99],\n",
    "    'LR__C': [1,5]\n",
    "}\n",
    "\n",
    "grid_pipe = GridSearchCV(pipeline, params, scoring='accuracy', cv=3, n_jobs=-1)\n",
    "grid_pipe.fit(X_train, y_train)"
   ]
  },
  {
   "cell_type": "code",
   "execution_count": 31,
   "metadata": {},
   "outputs": [
    {
     "data": {
      "text/plain": [
       "['../data/감성분석/model/한글(영화).pkl']"
      ]
     },
     "execution_count": 31,
     "metadata": {},
     "output_type": "execute_result"
    }
   ],
   "source": [
    "# 모델 저장\n",
    "# joblib.dump(grid_pipe.best_estimator_,'../data/감성분석/model/한글(영화).pkl')\n",
    "\n",
    "# 모델 로드\n",
    "# best_pipe = joblib.load('.pkl')"
   ]
  },
  {
   "cell_type": "code",
   "execution_count": 47,
   "metadata": {},
   "outputs": [],
   "source": [
    "# 사용 x\n",
    "def sentiment_predict(new_sentence, pipeline):\n",
    "    '''\n",
    "    입력 된 문장을 전처리 후 토큰화, 파이프 라인으로 예측한 값을 리턴\n",
    "    '''\n",
    "    new_sentence = str(new_sentence)\n",
    "    new_sentence = re.sub('[^가-힣]', ' ', new_sentence)\n",
    "    morphs = okt.morphs(new_sentence, stem=True)\n",
    "    new_sentence = ' '.join([word for word in okt.morphs(new_sentence, stem=True) if word not in stopwords])\n",
    "    return pipeline.predict([new_sentence])"
   ]
  },
  {
   "cell_type": "code",
   "execution_count": 33,
   "metadata": {},
   "outputs": [
    {
     "name": "stderr",
     "output_type": "stream",
     "text": [
      "C:\\Users\\Public\\Documents\\ESTsoft\\CreatorTemp\\ipykernel_15228\\3880671722.py:4: FutureWarning: The default value of regex will change from True to False in a future version.\n",
      "  df_corn.main_text = df_corn.main_text.str.replace('[^ㄱ-ㅎㅏ-ㅣ가-힣]', ' ').str.strip()\n"
     ]
    },
    {
     "name": "stdout",
     "output_type": "stream",
     "text": [
      "긍정: 87, 부정: 112  // 개수\n"
     ]
    },
    {
     "data": {
      "image/png": "[encoded data removed]",
      "text/plain": [
       "<Figure size 432x288 with 1 Axes>"
      ]
     },
     "metadata": {},
     "output_type": "display_data"
    }
   ],
   "source": [
    "pipeline = joblib.load('../data/감성분석/model/한글(영화).pkl')\n",
    "df_corn = pd.read_csv(\"../data/감성분석/crawling/instagram_옥수수.csv\", sep=\",\")\n",
    "\n",
    "df_corn.main_text = df_corn.main_text.str.replace('[^ㄱ-ㅎㅏ-ㅣ가-힣]', ' ').str.strip()\n",
    "# df_corn.main_text.replace('', np.nan, inplace=True)\n",
    "df_corn.main_text = df_corn.main_text.dropna()\n",
    "\n",
    "positive = 0\n",
    "negative = 0\n",
    "\n",
    "for i in df_corn.main_text:\n",
    "    score = pipeline.predict([i])\n",
    "    score = score.astype(int)\n",
    "\n",
    "    if score == 1:\n",
    "        positive += 1\n",
    "    else:\n",
    "        negative += 1\n",
    "\n",
    "print(f\"긍정: {positive}, 부정: {negative}  // 개수\")\n",
    "plt.bar(np.arange(2), [positive, negative])\n",
    "plt.xticks(np.arange(2), ['positive', 'negative'])\n",
    "plt.show()\n"
   ]
  },
  {
   "cell_type": "markdown",
   "metadata": {},
   "source": [
    "#### 2. ai_hub 데이터 이용"
   ]
  },
  {
   "cell_type": "markdown",
   "metadata": {},
   "source": [
    "    - cvect, lr"
   ]
  },
  {
   "cell_type": "code",
   "execution_count": null,
   "metadata": {},
   "outputs": [],
   "source": [
    "import re\n",
    "import numpy as np\n",
    "import pandas as pd\n",
    "import matplotlib.pyplot as plt\n",
    "from sklearn.model_selection import train_test_split\n",
    "from sklearn.model_selection import GridSearchCV\n",
    "from sklearn.linear_model import LogisticRegression\n",
    "from sklearn.feature_extraction.text import CountVectorizer\n",
    "import joblib"
   ]
  },
  {
   "cell_type": "code",
   "execution_count": 23,
   "metadata": {},
   "outputs": [],
   "source": [
    "df = pd.read_excel(\"../data/감성분석/kor_train_data/한국어_단발성_대화_데이터셋.xlsx\")\n",
    "df1 = df[['Sentence','Emotion']]\n",
    "df2 = df1[(df1.Emotion == '행복') | (df1.Emotion == '슬픔')]\n",
    "df3 = df2.replace(\"슬픔\",0).replace(\"행복\",1)\n"
   ]
  },
  {
   "cell_type": "code",
   "execution_count": 26,
   "metadata": {},
   "outputs": [
    {
     "name": "stdout",
     "output_type": "stream",
     "text": [
      "CPU times: total: 1.66 s\n",
      "Wall time: 686 ms\n"
     ]
    },
    {
     "data": {
      "text/plain": [
       "0.7749469214437368"
      ]
     },
     "execution_count": 26,
     "metadata": {},
     "output_type": "execute_result"
    }
   ],
   "source": [
    "X_train, X_test, y_train, y_test = train_test_split(\n",
    "    df3.Sentence, df3.Emotion, stratify=df3.Emotion, random_state=2022\n",
    ")\n",
    "\n",
    "#모델 학습, 평가\n",
    "cvect = CountVectorizer()\n",
    "lr = LogisticRegression(random_state=2022)\n",
    "pipeline = Pipeline([('CVECT', cvect), ('LR', lr)])\n",
    "%time pipeline.fit(X_train, y_train)\n",
    "pipeline.score(X_test, y_test)\n"
   ]
  },
  {
   "cell_type": "code",
   "execution_count": 139,
   "metadata": {},
   "outputs": [
    {
     "data": {
      "text/plain": [
       "GridSearchCV(cv=5,\n",
       "             estimator=Pipeline(steps=[('CVECT', CountVectorizer()),\n",
       "                                       ('LR',\n",
       "                                        LogisticRegression(random_state=2022))]),\n",
       "             n_jobs=-1,\n",
       "             param_grid={'CVECT__max_df': [0.9, 0.99],\n",
       "                         'CVECT__ngram_range': [(1, 1), (1, 2)],\n",
       "                         'LR__C': [1, 5]},\n",
       "             scoring='accuracy')"
      ]
     },
     "execution_count": 139,
     "metadata": {},
     "output_type": "execute_result"
    }
   ],
   "source": [
    "# 최적 파라미터 찾기\n",
    "params = {\n",
    "    'CVECT__ngram_range': [(1,1),(1,2)],\n",
    "    'CVECT__max_df': [0.90, 0.99],\n",
    "    'LR__C': [1,5]\n",
    "}\n",
    "\n",
    "grid_pipe = GridSearchCV(pipeline, params, scoring='accuracy', cv=5, n_jobs=-1)\n",
    "grid_pipe.fit(X_train, y_train)"
   ]
  },
  {
   "cell_type": "code",
   "execution_count": 140,
   "metadata": {},
   "outputs": [
    {
     "data": {
      "text/plain": [
       "['../data/감성분석/model/한글.pkl']"
      ]
     },
     "execution_count": 140,
     "metadata": {},
     "output_type": "execute_result"
    }
   ],
   "source": [
    "# 모델 저장\n",
    "# joblib.dump(grid_pipe.best_estimator_,'../data/감성분석/model/한글.pkl')"
   ]
  },
  {
   "cell_type": "code",
   "execution_count": 5,
   "metadata": {},
   "outputs": [
    {
     "name": "stderr",
     "output_type": "stream",
     "text": [
      "C:\\Users\\Public\\Documents\\ESTsoft\\CreatorTemp\\ipykernel_15228\\3362083930.py:4: FutureWarning: The default value of regex will change from True to False in a future version.\n",
      "  df_corn.main_text = df_corn.main_text.str.replace('[^ㄱ-ㅎㅏ-ㅣ가-힣]', ' ').str.strip()\n"
     ]
    },
    {
     "name": "stdout",
     "output_type": "stream",
     "text": [
      "긍정: 155, 부정: 44  // 개수\n"
     ]
    },
    {
     "data": {
      "image/png": "[encoded data removed]",
      "text/plain": [
       "<Figure size 432x288 with 1 Axes>"
      ]
     },
     "metadata": {},
     "output_type": "display_data"
    }
   ],
   "source": [
    "pipeline = joblib.load('../data/감성분석/model/한글.pkl')\n",
    "df_corn = pd.read_csv(\"../data/감성분석/crawling/instagram_옥수수.csv\", sep=\",\")\n",
    "\n",
    "df_corn.main_text = df_corn.main_text.str.replace('[^ㄱ-ㅎㅏ-ㅣ가-힣]', ' ').str.strip()\n",
    "# df_corn.main_text.replace('', np.nan, inplace=True)\n",
    "df_corn.main_text = df_corn.main_text.dropna()\n",
    "\n",
    "\n",
    "positive = 0\n",
    "negative = 0\n",
    "\n",
    "for i in df_corn.main_text:\n",
    "    score = pipeline.predict([i])\n",
    "    score = score.astype(int)\n",
    "\n",
    "    if score == 1:\n",
    "        positive += 1\n",
    "    else:\n",
    "        negative += 1\n",
    "\n",
    "print(f\"긍정: {positive}, 부정: {negative}  // 개수\")\n",
    "plt.bar(np.arange(2), [positive, negative])\n",
    "plt.xticks(np.arange(2), ['positive', 'negative'])\n",
    "plt.show()"
   ]
  },
  {
   "cell_type": "markdown",
   "metadata": {},
   "source": [
    "    - cvect, nb"
   ]
  },
  {
   "cell_type": "code",
   "execution_count": 38,
   "metadata": {},
   "outputs": [],
   "source": [
    "import numpy as np\n",
    "import pandas as pd\n",
    "import matplotlib.pyplot as plt\n",
    "from sklearn.model_selection import train_test_split\n",
    "from sklearn.feature_extraction.text import CountVectorizer\n",
    "from sklearn.naive_bayes import MultinomialNB\n",
    "import joblib"
   ]
  },
  {
   "cell_type": "code",
   "execution_count": 42,
   "metadata": {},
   "outputs": [
    {
     "name": "stdout",
     "output_type": "stream",
     "text": [
      "0.7699929228591649\n"
     ]
    }
   ],
   "source": [
    "df = pd.read_excel(\"../data/감성분석/kor_train_data/한국어_단발성_대화_데이터셋.xlsx\")\n",
    "df1 = df[['Sentence','Emotion']]\n",
    "df2 = df1[(df1.Emotion == '행복') | (df1.Emotion == '슬픔')]\n",
    "df3 = df2.replace(\"슬픔\",0).replace(\"행복\",1)\n",
    "\n",
    "X_train, X_test, y_train, y_test = train_test_split(\n",
    "    df3.Sentence, df3.Emotion, stratify=df3.Emotion, random_state=2022\n",
    ")\n",
    "\n",
    "stopwords = ['의','가','이','은','들','는','좀','잘','걍','과','도','를','으로','자','에','와','한','하다','을','ㅋㅋ','ㅠㅠ','ㅎㅎ']\n",
    "\n",
    "# CountVectorizer로 변환\n",
    "cvect = CountVectorizer(ngram_range=(1,2), stop_words=stopwords)\n",
    "cvect.fit(X_train)\n",
    "X_train_cv = cvect.transform(X_train)\n",
    "X_test_cv = cvect.transform(X_test)\n",
    "# 분류기: Naive Bayes\n",
    "nb = MultinomialNB()\n",
    "nb.fit(X_train_cv, y_train)\n",
    "print(nb.score(X_test_cv, y_test))\n",
    "\n"
   ]
  },
  {
   "cell_type": "code",
   "execution_count": 44,
   "metadata": {},
   "outputs": [
    {
     "data": {
      "text/plain": [
       "['../data/감성분석/model/한글_nb.pkl']"
      ]
     },
     "execution_count": 44,
     "metadata": {},
     "output_type": "execute_result"
    }
   ],
   "source": [
    "# joblib.dump(cvect,\"../data/감성분석/model/한글_cvect.pkl\")\n",
    "# joblib.dump(nb,\"../data/감성분석/model/한글_nb.pkl\")"
   ]
  },
  {
   "cell_type": "code",
   "execution_count": 25,
   "metadata": {},
   "outputs": [
    {
     "name": "stdout",
     "output_type": "stream",
     "text": [
      "긍정: 158, 부정: 41  // 개수\n"
     ]
    },
    {
     "data": {
      "image/png": "[encoded data removed]",
      "text/plain": [
       "<Figure size 432x288 with 1 Axes>"
      ]
     },
     "metadata": {},
     "output_type": "display_data"
    }
   ],
   "source": [
    "positive = 0\n",
    "negative = 0\n",
    "\n",
    "for i in df_corn.main_text:\n",
    "    review_cv = cvect.transform([i])\n",
    "    score = nb.predict(review_cv)\n",
    "    if score == 1:\n",
    "        positive += 1\n",
    "    else:\n",
    "        negative += 1\n",
    "\n",
    "print(f\"긍정: {positive}, 부정: {negative}  // 개수\")\n",
    "plt.bar(np.arange(2), [positive, negative])\n",
    "plt.xticks(np.arange(2), ['positive', 'negative'])\n",
    "plt.show()"
   ]
  },
  {
   "cell_type": "code",
   "execution_count": null,
   "metadata": {},
   "outputs": [],
   "source": []
  }
 ],
 "metadata": {
  "interpreter": {
   "hash": "79235f3c426277640c9689d2572c47b913f40843195eeba115616b689febf123"
  },
  "kernelspec": {
   "display_name": "Python 3.9.7 ('kdig')",
   "language": "python",
   "name": "python3"
  },
  "language_info": {
   "codemirror_mode": {
    "name": "ipython",
    "version": 3
   },
   "file_extension": ".py",
   "mimetype": "text/x-python",
   "name": "python",
   "nbconvert_exporter": "python",
   "pygments_lexer": "ipython3",
   "version": "3.9.7"
  },
  "orig_nbformat": 4
 },
 "nbformat": 4,
 "nbformat_minor": 2
}

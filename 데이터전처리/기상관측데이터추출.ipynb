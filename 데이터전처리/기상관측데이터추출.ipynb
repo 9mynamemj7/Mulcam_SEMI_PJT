{
 "cells": [
  {
   "cell_type": "code",
   "execution_count": 27,
   "id": "be842ed6",
   "metadata": {},
   "outputs": [],
   "source": [
    "from selenium import webdriver\n",
    "import pandas as pd\n",
    "import requests\n",
    "from bs4 import BeautifulSoup as bs\n",
    "from selenium.webdriver.common.by import By\n",
    "import time\n",
    "from selenium.webdriver.support.select import Select"
   ]
  },
  {
   "cell_type": "code",
   "execution_count": 40,
   "id": "f445c434",
   "metadata": {},
   "outputs": [
    {
     "name": "stderr",
     "output_type": "stream",
     "text": [
      "C:\\Users\\Admin\\AppData\\Local\\Temp\\ipykernel_25984\\1672893471.py:1: DeprecationWarning: executable_path has been deprecated, please pass in a Service object\n",
      "  driver = webdriver.Chrome('c:/pydata/chromedriver.exe')\n"
     ]
    }
   ],
   "source": [
    "driver = webdriver.Chrome('c:/pydata/chromedriver.exe')\n",
    "driver.get('https://oasis.krei.re.kr/basicInfo/etc/kma.do')\n",
    "time.sleep(1)"
   ]
  },
  {
   "cell_type": "code",
   "execution_count": 41,
   "id": "4b08fbfb",
   "metadata": {},
   "outputs": [],
   "source": [
    "for year in range(1988, 2023) :\n",
    "    if year == 2022 :\n",
    "        date2 = str(year) + '-05-03'\n",
    "    else :\n",
    "        date2 = str(year) + '-12-31'\n",
    "    date1 = str(year) + '-01-01'\n",
    "    driver.find_element(By.XPATH, '//*[@id=\"sCalendar\"]').clear()\n",
    "    driver.find_element(By.XPATH, '//*[@id=\"sCalendar\"]').send_keys(date1)\n",
    "    driver.find_element(By.XPATH, '//*[@id=\"eCalendar\"]').clear()\n",
    "    driver.find_element(By.XPATH, '//*[@id=\"eCalendar\"]').send_keys(date2)\n",
    "    \n",
    "    driver.find_element(By.XPATH, '//*[@id=\"search2\"]').click()\n",
    "    \n",
    "    driver.implicitly_wait(180)\n",
    "#     select=Select(driver.find_element_by_id(\"pageUnit\"))\n",
    "#     select.select_by_value(\"1000\")\n",
    "    \n",
    "    driver.implicitly_wait(180)\n",
    "    driver.find_element(By.XPATH, '//*[@id=\"excelDownload\"]/img').click()\n",
    "    time.sleep(20)"
   ]
  },
  {
   "cell_type": "code",
   "execution_count": 17,
   "id": "2a06d36c",
   "metadata": {},
   "outputs": [],
   "source": []
  }
 ],
 "metadata": {
  "kernelspec": {
   "display_name": "Python 3 (ipykernel)",
   "language": "python",
   "name": "python3"
  },
  "language_info": {
   "codemirror_mode": {
    "name": "ipython",
    "version": 3
   },
   "file_extension": ".py",
   "mimetype": "text/x-python",
   "name": "python",
   "nbconvert_exporter": "python",
   "pygments_lexer": "ipython3",
   "version": "3.9.7"
  }
 },
 "nbformat": 4,
 "nbformat_minor": 5
}

{
 "cells": [
  {
   "cell_type": "code",
   "execution_count": 43,
   "metadata": {},
   "outputs": [],
   "source": [
    "import pandas as pd\n",
    "import numpy as np\n",
    "import re\n",
    "from nltk.corpus import stopwords\n",
    "from nltk.tokenize import word_tokenize\n",
    "\n",
    "# 함수화 하기 전\n",
    "# def text_filter(filename = None, path = \"../data/인스타그램크롤링/raw/\"):\n",
    "#     '''\n",
    "#     filename: 파일명 + 형식\n",
    "    \n",
    "#     '''\n",
    "#     df = pd.read_csv(path+filename)\n"
   ]
  },
  {
   "cell_type": "markdown",
   "metadata": {},
   "source": [
    "불용어, 이모티콘같은거 다 제거해서 단어단위로만 남기고 감성분석을 해서 전체적으로 good인지 bad인지 판단하고싶음\n",
    "\n",
    "\n",
    "단어들에 대해서 감성분석할 때 뭐로 학습하지? 이거 라벨링 안되어있는데 영화꺼 써도 되나?\n",
    "불어? 같은거 섞여있는 이슈\n",
    "영어따로 한글따로 해야하나..?\n",
    "메인이랑 코멘트 같이 할 수 있겠지?\n",
    "중국어는 왜 안사라지나"
   ]
  },
  {
   "cell_type": "code",
   "execution_count": 62,
   "metadata": {},
   "outputs": [
    {
     "data": {
      "text/html": [
       "<div>\n",
       "<style scoped>\n",
       "    .dataframe tbody tr th:only-of-type {\n",
       "        vertical-align: middle;\n",
       "    }\n",
       "\n",
       "    .dataframe tbody tr th {\n",
       "        vertical-align: top;\n",
       "    }\n",
       "\n",
       "    .dataframe thead th {\n",
       "        text-align: right;\n",
       "    }\n",
       "</style>\n",
       "<table border=\"1\" class=\"dataframe\">\n",
       "  <thead>\n",
       "    <tr style=\"text-align: right;\">\n",
       "      <th></th>\n",
       "      <th>main_text</th>\n",
       "      <th>comment</th>\n",
       "    </tr>\n",
       "  </thead>\n",
       "  <tbody>\n",
       "    <tr>\n",
       "      <th>0</th>\n",
       "      <td>Os agricultores movimentam o nosso país 🤠🇧🇷#fa...</td>\n",
       "      <td>{\"1\": {\"comment_id\": \"sander.frizzo\"  \"comment...</td>\n",
       "    </tr>\n",
       "    <tr>\n",
       "      <th>1</th>\n",
       "      <td>LEXION ⚡️..Posted @withregram • @beavercreekfa...</td>\n",
       "      <td>{\"1\": {\"comment_id\": \"agro__machines\"  \"commen...</td>\n",
       "    </tr>\n",
       "    <tr>\n",
       "      <th>2</th>\n",
       "      <td>Put your lefover rice to work with @adamliaw's...</td>\n",
       "      <td>{\"1\": {\"comment_id\": \"sbsfood\"  \"comment_text\"...</td>\n",
       "    </tr>\n",
       "    <tr>\n",
       "      <th>3</th>\n",
       "      <td>E Nitrogênio em Milho Safrinha como proceder? ...</td>\n",
       "      <td>{\"1\": {\"comment_id\": \"andreaguirreconsultoria\"...</td>\n",
       "    </tr>\n",
       "    <tr>\n",
       "      <th>4</th>\n",
       "      <td>The cleanest pair of Magnum 305's around on a ...</td>\n",
       "      <td>{\"1\": {\"comment_id\": \"michiganfarmphotos\"  \"co...</td>\n",
       "    </tr>\n",
       "  </tbody>\n",
       "</table>\n",
       "</div>"
      ],
      "text/plain": [
       "                                           main_text  \\\n",
       "0  Os agricultores movimentam o nosso país 🤠🇧🇷#fa...   \n",
       "1  LEXION ⚡️..Posted @withregram • @beavercreekfa...   \n",
       "2  Put your lefover rice to work with @adamliaw's...   \n",
       "3  E Nitrogênio em Milho Safrinha como proceder? ...   \n",
       "4  The cleanest pair of Magnum 305's around on a ...   \n",
       "\n",
       "                                             comment  \n",
       "0  {\"1\": {\"comment_id\": \"sander.frizzo\"  \"comment...  \n",
       "1  {\"1\": {\"comment_id\": \"agro__machines\"  \"commen...  \n",
       "2  {\"1\": {\"comment_id\": \"sbsfood\"  \"comment_text\"...  \n",
       "3  {\"1\": {\"comment_id\": \"andreaguirreconsultoria\"...  \n",
       "4  {\"1\": {\"comment_id\": \"michiganfarmphotos\"  \"co...  "
      ]
     },
     "execution_count": 62,
     "metadata": {},
     "output_type": "execute_result"
    }
   ],
   "source": [
    "df = pd.read_csv(\"../data/인스타그램크롤링/raw/instagram_corn.csv\")\n",
    "df.head()"
   ]
  },
  {
   "cell_type": "code",
   "execution_count": 72,
   "metadata": {},
   "outputs": [
    {
     "data": {
      "text/plain": [
       "' commentid sanderfrizzo  commenttext Os agricultores movimentam o nosso pas nnfarmfazendaharvestcolheitacorncountryagronominagricultureclaascaseihinstagoodinstagramtractornjohndeerecombineinstadailyagroagriculturefazendnafarmlifetratorbrutosojamilhobrasilalgodaostaranjdcombineagronegociocountryside   commentid sanderfrizzo  commenttext    commentid leonardoolenik  commenttext    commentid agriculturabrutaoficial  commenttext Aobaaaaaa  Falou e disse   commentid weslynegreiros  commenttext O agro no para    commentid alexfabio  commenttext    commentid mateusconsalter  commenttext '"
      ]
     },
     "execution_count": 72,
     "metadata": {},
     "output_type": "execute_result"
    }
   ],
   "source": [
    "# 코멘트 리스트 안에 코멘트 정규화한 글자를 집어넣음\n",
    "comment_list = []\n",
    "for comment in df.comment:\n",
    "    comment_list.append(re.sub('[^a-zA-Zㄱ-힣 ]',\"\",comment))\n",
    "comment_list[0]"
   ]
  },
  {
   "cell_type": "code",
   "execution_count": 77,
   "metadata": {},
   "outputs": [
    {
     "name": "stdout",
     "output_type": "stream",
     "text": [
      "['sanderfrizzo', 'Os', 'agricultores', 'movimentam', 'nosso', 'pas', 'nnfarmfazendaharvestcolheitacorncountryagronominagricultureclaascaseihinstagoodinstagramtractornjohndeerecombineinstadailyagroagriculturefazendnafarmlifetratorbrutosojamilhobrasilalgodaostaranjdcombineagronegociocountryside', 'sanderfrizzo', 'leonardoolenik', 'agriculturabrutaoficial']\n",
      "토큰 총 개수: 2323\n"
     ]
    }
   ],
   "source": [
    "# 코멘트데이터 한개의 리스트 안에 토큰화 ( commentid, commenttext, 영어불용어 제거)\n",
    "result = []\n",
    "stop_words = set(stopwords.words('english')) \n",
    "for cmt in comment_list:\n",
    "    word_tokens = word_tokenize(cmt) \n",
    "    for w in word_tokens: \n",
    "        if w not in stop_words: \n",
    "            result.append(w) \n",
    "while \"commentid\" in result:\n",
    "    result.remove(\"commentid\")\n",
    "while \"commenttext\" in result:\n",
    "    result.remove(\"commenttext\")\n",
    "print(result[:10])\n",
    "print(\"토큰 총 개수:\",len(result))\n"
   ]
  },
  {
   "cell_type": "code",
   "execution_count": null,
   "metadata": {},
   "outputs": [],
   "source": []
  }
 ],
 "metadata": {
  "interpreter": {
   "hash": "79235f3c426277640c9689d2572c47b913f40843195eeba115616b689febf123"
  },
  "kernelspec": {
   "display_name": "Python 3.9.7 ('kdig')",
   "language": "python",
   "name": "python3"
  },
  "language_info": {
   "codemirror_mode": {
    "name": "ipython",
    "version": 3
   },
   "file_extension": ".py",
   "mimetype": "text/x-python",
   "name": "python",
   "nbconvert_exporter": "python",
   "pygments_lexer": "ipython3",
   "version": "3.9.7"
  },
  "orig_nbformat": 4
 },
 "nbformat": 4,
 "nbformat_minor": 2
}

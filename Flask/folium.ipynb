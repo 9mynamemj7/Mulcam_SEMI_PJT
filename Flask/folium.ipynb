{
 "cells": [
  {
   "cell_type": "code",
   "execution_count": 20,
   "metadata": {},
   "outputs": [],
   "source": [
    "import folium\n",
    "\n",
    "m = folium.Map(\n",
    "    location=[37.5838699,127.0565831],\n",
    "    zoom_start=7\n",
    ")\n",
    "\n",
    "import json\n",
    "with open('./static/data/조사지역.json',mode='rt',encoding='utf-8') as f:\n",
    "    geo = json.loads(f.read())\n",
    "    f.close()\n",
    "\n",
    "folium.GeoJson(\n",
    "    geo,\n",
    "    name='KOR_NM'\n",
    ").add_to(m)\n",
    "\n",
    "m.save('./static/data/map.html')\n"
   ]
  },
  {
   "cell_type": "code",
   "execution_count": null,
   "metadata": {},
   "outputs": [],
   "source": []
  }
 ],
 "metadata": {
  "interpreter": {
   "hash": "c30a374dc3544837fc911f7c0b3ae456a317ea7f3e663f35a3dd2f13c77dd4db"
  },
  "kernelspec": {
   "display_name": "Python 3.9.7 ('kdig')",
   "language": "python",
   "name": "python3"
  },
  "language_info": {
   "codemirror_mode": {
    "name": "ipython",
    "version": 3
   },
   "file_extension": ".py",
   "mimetype": "text/x-python",
   "name": "python",
   "nbconvert_exporter": "python",
   "pygments_lexer": "ipython3",
   "version": "3.9.7"
  },
  "orig_nbformat": 4
 },
 "nbformat": 4,
 "nbformat_minor": 2
}

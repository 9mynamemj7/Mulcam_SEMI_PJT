{
 "cells": [
  {
   "cell_type": "code",
   "execution_count": 23,
   "metadata": {},
   "outputs": [
    {
     "name": "stdout",
     "output_type": "stream",
     "text": [
      "<class 'pandas.core.frame.DataFrame'>\n",
      "RangeIndex: 891349 entries, 0 to 891348\n",
      "Data columns (total 7 columns):\n",
      " #   Column       Non-Null Count   Dtype  \n",
      "---  ------       --------------   -----  \n",
      " 0   관측일자         891349 non-null  int64  \n",
      " 1   temperature  891349 non-null  float64\n",
      " 2   temp_max     891349 non-null  float64\n",
      " 3   temp_min     891349 non-null  float64\n",
      " 4   rainfall     891349 non-null  float64\n",
      " 5   humidity     891349 non-null  float64\n",
      " 6   조사지역         891349 non-null  object \n",
      "dtypes: float64(5), int64(1), object(1)\n",
      "memory usage: 47.6+ MB\n"
     ]
    }
   ],
   "source": [
    "import pandas as pd\n",
    "\n",
    "# 기상데이터 열 이름 통일\n",
    "df = pd.read_csv(\"../data/기상데이터전처리.csv\")\n",
    "df = df.iloc[:,1:]\n",
    "df.columns = [\"관측일자\",\"temperature\",\"temp_max\",\"temp_min\",\"rainfall\",\"humidity\",\"조사지역\"]\n",
    "df.info()"
   ]
  },
  {
   "cell_type": "code",
   "execution_count": 29,
   "metadata": {},
   "outputs": [
    {
     "name": "stdout",
     "output_type": "stream",
     "text": [
      "<class 'pandas.core.frame.DataFrame'>\n",
      "RangeIndex: 891349 entries, 0 to 891348\n",
      "Data columns (total 7 columns):\n",
      " #   Column       Non-Null Count   Dtype  \n",
      "---  ------       --------------   -----  \n",
      " 0   관측일자         891349 non-null  int64  \n",
      " 1   temperature  891349 non-null  float64\n",
      " 2   temp_max     891349 non-null  float64\n",
      " 3   temp_min     891349 non-null  float64\n",
      " 4   rainfall     891349 non-null  float64\n",
      " 5   humidity     891349 non-null  float64\n",
      " 6   조사지역         891349 non-null  object \n",
      "dtypes: float64(5), int64(1), object(1)\n",
      "memory usage: 47.6+ MB\n"
     ]
    }
   ],
   "source": [
    "# 최대/최소 기온 데이터 타입 float형 으로 변경\n",
    "df2 = pd.read_csv(\"../data/작물추천_min_max_추가.csv\")\n",
    "df['temp_min'].astype('float')\n",
    "df['temp_max'].astype('float')\n",
    "df.info()"
   ]
  },
  {
   "cell_type": "code",
   "execution_count": 30,
   "metadata": {},
   "outputs": [],
   "source": [
    "df.to_csv(\"../data/기상데이터전처리_열이름변경.csv\")\n",
    "df2.to_csv(\"../data/작물추천_min_max_추가_데이터타입변경.csv\")"
   ]
  },
  {
   "cell_type": "code",
   "execution_count": null,
   "metadata": {},
   "outputs": [],
   "source": []
  }
 ],
 "metadata": {
  "interpreter": {
   "hash": "79235f3c426277640c9689d2572c47b913f40843195eeba115616b689febf123"
  },
  "kernelspec": {
   "display_name": "Python 3.9.7 ('kdig')",
   "language": "python",
   "name": "python3"
  },
  "language_info": {
   "codemirror_mode": {
    "name": "ipython",
    "version": 3
   },
   "file_extension": ".py",
   "mimetype": "text/x-python",
   "name": "python",
   "nbconvert_exporter": "python",
   "pygments_lexer": "ipython3",
   "version": "3.9.7"
  },
  "orig_nbformat": 4
 },
 "nbformat": 4,
 "nbformat_minor": 2
}

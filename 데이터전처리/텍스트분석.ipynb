{
 "cells": [
  {
   "cell_type": "markdown",
   "metadata": {},
   "source": [
    "### 감정분석\n",
    "\n",
    "미완성으로 데이터값이 어떻게 나오는지 확인 용도임."
   ]
  },
  {
   "cell_type": "markdown",
   "metadata": {},
   "source": [
    "#### 인스타그램에서 크롤링 해 온 데이터(영어만)를 긍부정 검사, 긍부정 개수 확인 \n",
    "- afinn(영어 긍부정 감정사전) 활용"
   ]
  },
  {
   "cell_type": "code",
   "execution_count": null,
   "metadata": {},
   "outputs": [
    {
     "name": "stdout",
     "output_type": "stream",
     "text": [
      "긍정: 231, 중립: 209, 부정: 60  // 개수\n"
     ]
    },
    {
     "data": {
      "image/png": "[encoded data removed]",
      "text/plain": [
       "<Figure size 432x288 with 1 Axes>"
      ]
     },
     "metadata": {},
     "output_type": "display_data"
    }
   ],
   "source": [
    "import pandas as pd\n",
    "from afinn import Afinn\n",
    "import numpy as np\n",
    "import matplotlib.pyplot as plt\n",
    "plt.style.use('seaborn-white')\n",
    "\n",
    "df = pd.read_csv(\"../data/인스타그램크롤링/raw/instagram_Wheat.csv\")\n",
    "df.main_text[:5]\n",
    "\n",
    "positive = 0\n",
    "neutral = 0\n",
    "negative = 0\n",
    "\n",
    "for i in df.main_text:\n",
    "    score = afinn.score(i)\n",
    "    if score > 0:\n",
    "        positive += 1\n",
    "    elif score == 0:\n",
    "        neutral += 1\n",
    "    else:\n",
    "        negative += 1\n",
    "print(f\"긍정: {positive}, 중립: {neutral}, 부정: {negative}  // 개수\")\n",
    "plt.bar(np.arange(3), [positive, neutral, negative])\n",
    "plt.xticks(np.arange(3), ['positive', 'neutral', 'negative'])\n",
    "plt.show()\n"
   ]
  },
  {
   "cell_type": "markdown",
   "metadata": {},
   "source": [
    "#### 인스타그램에서 크롤링 해 온 데이터(한국어)를 긍부정 검사, 긍부정 개수 확인 \n",
    "- 영화리뷰 배운내용 활용"
   ]
  },
  {
   "cell_type": "code",
   "execution_count": null,
   "metadata": {},
   "outputs": [],
   "source": [
    "import re\n",
    "import numpy as np\n",
    "import pandas as pd\n",
    "import matplotlib.pyplot as plt\n",
    "plt.style.use('seaborn-white')\n",
    "from konlpy.tag import Okt\n",
    "okt = Okt()\n",
    "import urllib.request\n",
    "from tqdm.notebook import tqdm\n",
    "from sklearn.feature_extraction.text import CountVectorizer\n",
    "from sklearn.linear_model import LogisticRegression\n",
    "from sklearn.pipeline import Pipeline"
   ]
  },
  {
   "cell_type": "markdown",
   "metadata": {},
   "source": [
    "영화리뷰 데이터 학습,테스트"
   ]
  },
  {
   "cell_type": "code",
   "execution_count": 59,
   "metadata": {},
   "outputs": [],
   "source": [
    "train_file = urllib.request.urlopen(\"https://raw.githubusercontent.com/e9t/nsmc/master/ratings_train.txt\")\n",
    "test_file = urllib.request.urlopen(\"https://raw.githubusercontent.com/e9t/nsmc/master/ratings_test.txt\")\n",
    "\n",
    "train_data = pd.read_table(train_file)\n",
    "test_data = pd.read_table(test_file)\n",
    "\n",
    "# Null 데이터 제거\n",
    "train_data.dropna(how='any', inplace=True)\n",
    "test_data.dropna(how='any', inplace=True)\n",
    "# 중복데이터 제거\n",
    "train_data.drop_duplicates(subset=['document'], inplace=True)\n",
    "test_data.drop_duplicates(subset=['document'], inplace=True)\n",
    "\n",
    "# 정규표현식\n",
    "train_data['document'] = train_data['document'].str.replace(\"[^ㄱ-ㅎㅏ-ㅣ가-힣]\",\" \")\n",
    "train_data['document'].replace(\"\",np.nan, inplace=True)\n",
    "train_data.dropna(how='any', inplace=True)\n",
    "test_data['document'] = test_data['document'].str.replace(\"[^ㄱ-ㅎㅏ-ㅣ가-힣]\",\" \")\n",
    "test_data['document'].replace(\"\",np.nan, inplace=True)\n",
    "test_data.dropna(how='any', inplace=True)\n",
    "stopwords = ['의','가','이','은','들','는','좀','잘','걍','과','도','를','으로','자','에','와','한','하다','을','ㅋㅋ','ㅠㅠ','ㅎㅎ']\n",
    "\n",
    "\n",
    "\n",
    "X_train = []\n",
    "for sentence in tqdm(train_data.document):\n",
    "    morphs = okt.morphs(sentence, stem=True)\n",
    "    tmp_str = ' '.join([word for word in morphs if word not in stopwords])\n",
    "    X_train.append(tmp_str)\n",
    "\n",
    "X_test = []\n",
    "for sentence in tqdm(test_data.document):\n",
    "    morphs = okt.morphs(sentence, stem=True)\n",
    "    tmp_str = ' '.join([word for word in morphs if word not in stopwords])\n",
    "    X_test.append(tmp_str)\n",
    "\n",
    "y_train = train_data.label.values\n",
    "y_test = test_data.label.values"
   ]
  },
  {
   "cell_type": "markdown",
   "metadata": {},
   "source": [
    "모델 학습, 평가"
   ]
  },
  {
   "cell_type": "code",
   "execution_count": null,
   "metadata": {},
   "outputs": [
    {
     "name": "stderr",
     "output_type": "stream",
     "text": [
      "c:\\ProgramData\\Miniconda3\\envs\\kdig\\lib\\site-packages\\sklearn\\linear_model\\_logistic.py:814: ConvergenceWarning: lbfgs failed to converge (status=1):\n",
      "STOP: TOTAL NO. of ITERATIONS REACHED LIMIT.\n",
      "\n",
      "Increase the number of iterations (max_iter) or scale the data as shown in:\n",
      "    https://scikit-learn.org/stable/modules/preprocessing.html\n",
      "Please also refer to the documentation for alternative solver options:\n",
      "    https://scikit-learn.org/stable/modules/linear_model.html#logistic-regression\n",
      "  n_iter_i = _check_optimize_result(\n"
     ]
    },
    {
     "name": "stdout",
     "output_type": "stream",
     "text": [
      "CPU times: total: 16.1 s\n",
      "Wall time: 5.63 s\n"
     ]
    },
    {
     "data": {
      "text/plain": [
       "0.82486726203796"
      ]
     },
     "execution_count": 25,
     "metadata": {},
     "output_type": "execute_result"
    }
   ],
   "source": [
    "cvect = CountVectorizer()\n",
    "lr = LogisticRegression(random_state=2022)\n",
    "pipeline = Pipeline([('CVECT', cvect), ('LR', lr)])\n",
    "%time pipeline.fit(X_train, y_train)\n",
    "pipeline.score(X_test, y_test)"
   ]
  },
  {
   "cell_type": "markdown",
   "metadata": {},
   "source": [
    "감정 예측"
   ]
  },
  {
   "cell_type": "code",
   "execution_count": null,
   "metadata": {},
   "outputs": [],
   "source": [
    "def sentiment_predict(new_sentence):\n",
    "    new_sentence = str(new_sentence)\n",
    "    new_sentence = re.sub('[^가-힣]', ' ', new_sentence)\n",
    "    morphs = okt.morphs(new_sentence, stem=True)\n",
    "    new_sentence = ' '.join([word for word in okt.morphs(new_sentence, stem=True) if word not in stopwords])\n",
    "    return pipeline.predict([new_sentence])"
   ]
  },
  {
   "cell_type": "code",
   "execution_count": 64,
   "metadata": {},
   "outputs": [
    {
     "name": "stdout",
     "output_type": "stream",
     "text": [
      "긍정: 112, 중립: 88, 부정: 0  // 개수\n"
     ]
    },
    {
     "data": {
      "image/png": "[encoded data removed]",
      "text/plain": [
       "<Figure size 432x288 with 1 Axes>"
      ]
     },
     "metadata": {},
     "output_type": "display_data"
    }
   ],
   "source": [
    "data1 = pd.read_csv(\"../data/인스타그램크롤링/raw/instagram_옥수수.csv\")\n",
    "data1.main_text[:5]\n",
    "\n",
    "positive = 0\n",
    "neutral = 0\n",
    "negative = 0\n",
    "\n",
    "for j in [i for i in data1.main_text]:\n",
    "    score = sentiment_predict(j).astype(int)\n",
    "    if score > 0:\n",
    "        positive += 1\n",
    "    elif score == 0:\n",
    "        neutral += 1\n",
    "    else:\n",
    "        negative += 1\n",
    "        \n",
    "print(f\"긍정: {positive}, 중립: {neutral}, 부정: {negative}  // 개수\")\n",
    "plt.bar(np.arange(3), [positive, neutral, negative])\n",
    "plt.xticks(np.arange(3), ['positive', 'neutral', 'negative'])\n",
    "plt.show()\n",
    "    "
   ]
  }
 ],
 "metadata": {
  "interpreter": {
   "hash": "79235f3c426277640c9689d2572c47b913f40843195eeba115616b689febf123"
  },
  "kernelspec": {
   "display_name": "Python 3.9.7 ('kdig')",
   "language": "python",
   "name": "python3"
  },
  "language_info": {
   "codemirror_mode": {
    "name": "ipython",
    "version": 3
   },
   "file_extension": ".py",
   "mimetype": "text/x-python",
   "name": "python",
   "nbconvert_exporter": "python",
   "pygments_lexer": "ipython3",
   "version": "3.9.7"
  },
  "orig_nbformat": 4
 },
 "nbformat": 4,
 "nbformat_minor": 2
}

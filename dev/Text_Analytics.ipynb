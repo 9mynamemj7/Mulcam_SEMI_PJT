{
 "cells": [
  {
   "cell_type": "markdown",
   "metadata": {},
   "source": [
    "### 텍스트 분석 파트 개선"
   ]
  },
  {
   "cell_type": "code",
   "execution_count": 29,
   "metadata": {},
   "outputs": [],
   "source": [
    "import joblib\n",
    "from sklearn.pipeline import Pipeline\n",
    "import pandas as pd\n",
    "from pre_func import kor_senti"
   ]
  },
  {
   "cell_type": "code",
   "execution_count": 30,
   "metadata": {},
   "outputs": [],
   "source": [
    "df = pd.Series({\"main\": [\"hi\",\"hello\"]})"
   ]
  },
  {
   "cell_type": "code",
   "execution_count": 31,
   "metadata": {},
   "outputs": [
    {
     "ename": "AttributeError",
     "evalue": "'list' object has no attribute 'str'",
     "output_type": "error",
     "traceback": [
      "\u001b[1;31m---------------------------------------------------------------------------\u001b[0m",
      "\u001b[1;31mAttributeError\u001b[0m                            Traceback (most recent call last)",
      "\u001b[1;32mc:\\workspace\\02.FirstProject\\Mulcam_SEMI_PJT\\dev\\Text_Analytics.ipynb 셀 5\u001b[0m in \u001b[0;36m<cell line: 6>\u001b[1;34m()\u001b[0m\n\u001b[0;32m      <a href='vscode-notebook-cell:/c%3A/workspace/02.FirstProject/Mulcam_SEMI_PJT/dev/Text_Analytics.ipynb#W3sZmlsZQ%3D%3D?line=2'>3</a>\u001b[0m nb \u001b[39m=\u001b[39m joblib\u001b[39m.\u001b[39mload(\u001b[39m\"\u001b[39m\u001b[39m../data/감성분석/model/한글_nb.pkl\u001b[39m\u001b[39m\"\u001b[39m)\n\u001b[0;32m      <a href='vscode-notebook-cell:/c%3A/workspace/02.FirstProject/Mulcam_SEMI_PJT/dev/Text_Analytics.ipynb#W3sZmlsZQ%3D%3D?line=3'>4</a>\u001b[0m series \u001b[39m=\u001b[39m df\u001b[39m.\u001b[39mmain\n\u001b[1;32m----> <a href='vscode-notebook-cell:/c%3A/workspace/02.FirstProject/Mulcam_SEMI_PJT/dev/Text_Analytics.ipynb#W3sZmlsZQ%3D%3D?line=5'>6</a>\u001b[0m kor_senti(pipe, cvect, nb,series)\n",
      "File \u001b[1;32mc:\\workspace\\02.FirstProject\\Mulcam_SEMI_PJT\\dev\\kor_senti.py:20\u001b[0m, in \u001b[0;36mkor_senti\u001b[1;34m(pipe, cvect, nb, series)\u001b[0m\n\u001b[0;32m     14\u001b[0m \u001b[39m'''\u001b[39;00m\n\u001b[0;32m     15\u001b[0m \u001b[39m모델은 joblib으로 불러온 파이프라인 입력\u001b[39;00m\n\u001b[0;32m     16\u001b[0m \u001b[39m시리즈는 분석하고자 하는 데이터프레임의 시리즈 입력\u001b[39;00m\n\u001b[0;32m     17\u001b[0m \u001b[39m긍정, 부정 튜플 리턴\u001b[39;00m\n\u001b[0;32m     18\u001b[0m \u001b[39m'''\u001b[39;00m\n\u001b[0;32m     19\u001b[0m series \u001b[39m=\u001b[39m series\n\u001b[1;32m---> 20\u001b[0m series \u001b[39m=\u001b[39m series\u001b[39m.\u001b[39;49mstr\u001b[39m.\u001b[39mreplace(\u001b[39m'\u001b[39m\u001b[39m[^ㄱ-ㅎㅏ-ㅣ가-힣]\u001b[39m\u001b[39m'\u001b[39m, \u001b[39m'\u001b[39m\u001b[39m \u001b[39m\u001b[39m'\u001b[39m)\u001b[39m.\u001b[39mstr\u001b[39m.\u001b[39mstrip()\n\u001b[0;32m     21\u001b[0m series \u001b[39m=\u001b[39m series\u001b[39m.\u001b[39mdropna()\n\u001b[0;32m     23\u001b[0m positive \u001b[39m=\u001b[39m \u001b[39m0\u001b[39m\n",
      "\u001b[1;31mAttributeError\u001b[0m: 'list' object has no attribute 'str'"
     ]
    }
   ],
   "source": [
    "pipe = joblib.load('../data/감성분석/model/한글(ai).pkl')   # data\\감성분석\\model\\한글(ai).pkl\n",
    "cvect = joblib.load(\"../data/감성분석/model/한글_cvect.pkl\")\n",
    "nb = joblib.load(\"../data/감성분석/model/한글_nb.pkl\")\n",
    "series = df.main\n",
    "\n",
    "kor_senti(pipe, cvect, nb,series)"
   ]
  },
  {
   "cell_type": "code",
   "execution_count": null,
   "metadata": {},
   "outputs": [],
   "source": []
  },
  {
   "cell_type": "code",
   "execution_count": null,
   "metadata": {},
   "outputs": [],
   "source": []
  }
 ],
 "metadata": {
  "kernelspec": {
   "display_name": "Python 3.9.7 ('kdig')",
   "language": "python",
   "name": "python3"
  },
  "language_info": {
   "codemirror_mode": {
    "name": "ipython",
    "version": 3
   },
   "file_extension": ".py",
   "mimetype": "text/x-python",
   "name": "python",
   "nbconvert_exporter": "python",
   "pygments_lexer": "ipython3",
   "version": "3.9.7"
  },
  "orig_nbformat": 4,
  "vscode": {
   "interpreter": {
    "hash": "79235f3c426277640c9689d2572c47b913f40843195eeba115616b689febf123"
   }
  }
 },
 "nbformat": 4,
 "nbformat_minor": 2
}

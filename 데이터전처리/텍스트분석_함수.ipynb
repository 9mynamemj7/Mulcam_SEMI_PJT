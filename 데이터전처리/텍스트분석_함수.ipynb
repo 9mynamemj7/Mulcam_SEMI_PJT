{
 "cells": [
  {
   "cell_type": "markdown",
   "metadata": {},
   "source": []
  },
  {
   "cell_type": "code",
   "execution_count": 3,
   "metadata": {},
   "outputs": [],
   "source": [
    "import re\n",
    "import numpy as np\n",
    "import pandas as pd\n",
    "import matplotlib.pyplot as plt\n",
    "from sklearn.model_selection import train_test_split\n",
    "from sklearn.model_selection import GridSearchCV\n",
    "from sklearn.linear_model import LogisticRegression\n",
    "from sklearn.feature_extraction.text import CountVectorizer\n",
    "from sklearn.naive_bayes import MultinomialNB\n",
    "nb = MultinomialNB()\n",
    "import joblib\n",
    "\n",
    "def kor_senti(pipe, cvect, nb, series):\n",
    "    '''\n",
    "    모델은 joblib으로 불러온 파이프라인 입력\n",
    "    시리즈는 분석하고자 하는 데이터프레임의 시리즈 입력\n",
    "    긍정, 부정 튜플 리턴\n",
    "    '''\n",
    "    series = series\n",
    "    series = series.str.replace('[^ㄱ-ㅎㅏ-ㅣ가-힣]', ' ').str.strip()\n",
    "    series = series.dropna()\n",
    "\n",
    "    positive = 0\n",
    "    negative = 0\n",
    "    \n",
    "    if pipe != \"\":\n",
    "        model = pipe\n",
    "        \n",
    "\n",
    "        for i in series:\n",
    "            score = model.predict([i])\n",
    "            score = score.astype(int)\n",
    "\n",
    "            if score == 1:\n",
    "                positive += 1\n",
    "            else:\n",
    "                negative += 1\n",
    "        # 그래프 그리기\n",
    "        plt.figure(linewidth=2)    \n",
    "        plt.bar(np.arange(2), [positive, negative])\n",
    "        plt.xticks(np.arange(2), ['positive', 'negative'])\n",
    "        plt.savefig(\"kor_sent.png\",edgecolor='blue')\n",
    "        \n",
    "        return (positive, negative)\n",
    "\n",
    "    else:\n",
    "\n",
    "        for i in series:\n",
    "            review_cv = cvect.transform([i])\n",
    "            score = nb.predict(review_cv)\n",
    "            if score == 1:\n",
    "                positive += 1\n",
    "            else:\n",
    "                negative += 1\n",
    "\n",
    "        # 그래프 그리기\n",
    "        plt.figure(linewidth=2)    \n",
    "        plt.bar(np.arange(2), [positive, negative])\n",
    "        plt.xticks(np.arange(2), ['positive', 'negative'])\n",
    "        plt.savefig(\"kor_sent.png\",edgecolor='blue')\n",
    "        \n",
    "        return (positive, negative)\n",
    "\n",
    "\n",
    "def eng_senti(pipe, cvect, nb, series):\n",
    "    series = series\n",
    "    series = series.str.replace('[^A-Za-z]',' ').str.strip()\n",
    "    series = series.dropna()\n",
    "\n",
    "    positive = 0\n",
    "    negative = 0\n",
    "\n",
    "    if pipe != \"\":\n",
    "        model = pipe\n",
    "\n",
    "        for i in series:\n",
    "            score = model.predict([i])\n",
    "            score = score.astype(int)\n",
    "\n",
    "            if score == 1:\n",
    "                positive += 1\n",
    "            else:\n",
    "                negative += 1\n",
    "        # 그래프 그리기\n",
    "        plt.figure(linewidth=2)    \n",
    "        plt.bar(np.arange(2), [positive, negative])\n",
    "        plt.xticks(np.arange(2), ['positive', 'negative'])\n",
    "        plt.savefig(\"eng_sent.png\",edgecolor='blue')\n",
    "\n",
    "        return (positive, negative)\n",
    "    \n",
    "    else:\n",
    "\n",
    "        for i in series:\n",
    "            review_cv = cvect.transform([i])\n",
    "            score = nb.predict(review_cv)\n",
    "            if score == 1:\n",
    "                positive += 1\n",
    "            else:\n",
    "                negative += 1\n",
    "        # 그래프 그리기\n",
    "        plt.figure(linewidth=2)    \n",
    "        plt.bar(np.arange(2), [positive, negative])\n",
    "        plt.xticks(np.arange(2), ['positive', 'negative'])\n",
    "        plt.savefig(\"eng_sent.png\",edgecolor='blue')\n",
    "\n",
    "        return (positive, negative)\n",
    "\n",
    "    \n",
    "    "
   ]
  },
  {
   "cell_type": "code",
   "execution_count": 4,
   "metadata": {},
   "outputs": [
    {
     "name": "stderr",
     "output_type": "stream",
     "text": [
      "C:\\Users\\Public\\Documents\\ESTsoft\\CreatorTemp\\ipykernel_4592\\3876707171.py:20: FutureWarning: The default value of regex will change from True to False in a future version.\n",
      "  series = series.str.replace('[^ㄱ-ㅎㅏ-ㅣ가-힣]', ' ').str.strip()\n"
     ]
    },
    {
     "data": {
      "text/plain": [
       "(155, 44)"
      ]
     },
     "execution_count": 4,
     "metadata": {},
     "output_type": "execute_result"
    },
    {
     "data": {
      "image/png": "[encoded data removed]",
      "text/plain": [
       "<Figure size 432x288 with 1 Axes>"
      ]
     },
     "metadata": {
      "needs_background": "light"
     },
     "output_type": "display_data"
    }
   ],
   "source": [
    "pipe = joblib.load('../data/감성분석/model/한글(ai)_pipe.pkl')\n",
    "cvect = joblib.load(\"../data/감성분석/model/한글_cvect.pkl\")\n",
    "nb = joblib.load(\"../data/감성분석/model/한글_nb.pkl\")\n",
    "df = pd.read_csv(\"../data/감성분석/crawling/instagram_옥수수.csv\", sep=\",\")\n",
    "series = df.main_text\n",
    "\n",
    "kor_senti(pipe, cvect, nb,series)"
   ]
  },
  {
   "cell_type": "code",
   "execution_count": 19,
   "metadata": {},
   "outputs": [
    {
     "name": "stderr",
     "output_type": "stream",
     "text": [
      "C:\\Users\\Public\\Documents\\ESTsoft\\CreatorTemp\\ipykernel_17624\\1249588248.py:55: FutureWarning: The default value of regex will change from True to False in a future version.\n",
      "  series = series.str.replace('[^A-Za-z]',' ').str.strip()\n"
     ]
    },
    {
     "data": {
      "text/plain": [
       "(253, 247)"
      ]
     },
     "execution_count": 19,
     "metadata": {},
     "output_type": "execute_result"
    }
   ],
   "source": [
    "pipe = joblib.load('../data/감성분석/model/영어_pipe.pkl')\n",
    "cvect = joblib.load(\"../data/감성분석/model/영어_cvect.pkl\")\n",
    "nb = joblib.load(\"../data/감성분석/model/영어_nb.pkl\")\n",
    "df = pd.read_csv(\"../data/감성분석/crawling/instagram_밀.csv\", sep=\",\")\n",
    "series = df.main_text\n",
    "\n",
    "eng_senti(\"\", cvect, nb, series)"
   ]
  },
  {
   "cell_type": "code",
   "execution_count": null,
   "metadata": {},
   "outputs": [],
   "source": []
  }
 ],
 "metadata": {
  "interpreter": {
   "hash": "79235f3c426277640c9689d2572c47b913f40843195eeba115616b689febf123"
  },
  "kernelspec": {
   "display_name": "Python 3.9.7 ('kdig')",
   "language": "python",
   "name": "python3"
  },
  "language_info": {
   "codemirror_mode": {
    "name": "ipython",
    "version": 3
   },
   "file_extension": ".py",
   "mimetype": "text/x-python",
   "name": "python",
   "nbconvert_exporter": "python",
   "pygments_lexer": "ipython3",
   "version": "3.9.7"
  },
  "orig_nbformat": 4
 },
 "nbformat": 4,
 "nbformat_minor": 2
}

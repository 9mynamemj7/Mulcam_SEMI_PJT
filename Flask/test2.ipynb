{
 "cells": [
  {
   "cell_type": "code",
   "execution_count": 29,
   "metadata": {},
   "outputs": [],
   "source": [
    "import plotly.express as px\n",
    "import pandas as pd \n",
    "import os \n",
    "import json "
   ]
  },
  {
   "cell_type": "code",
   "execution_count": 30,
   "metadata": {},
   "outputs": [],
   "source": [
    "# 경로 설정\n",
    "root_path = os.getcwd() # 실행 코드가 있는 곳 \n",
    "data_path = os.path.join(root_path, 'static/data') # 실험에 쓰일 데이터가 있는 곳 \n",
    "os.chdir(data_path)"
   ]
  },
  {
   "cell_type": "code",
   "execution_count": 32,
   "metadata": {},
   "outputs": [],
   "source": [
    "# 데이터 로드 \n",
    "geometry_gj = json.load(open('시군구.json', encoding='utf-8'))\n",
    "reg_df = pd.read_csv('기상데이터전처리완료 0510.csv', encoding='utf-8')"
   ]
  },
  {
   "cell_type": "code",
   "execution_count": null,
   "metadata": {},
   "outputs": [],
   "source": [
    "# 데이터 전처리 \n",
    "reg_name = [] \n",
    "for i in range(len(reg_df)): \n",
    "    reg_name = reg_df.iloc[i]['조사지역']\n",
    "reg_df['관측지역'] = reg_name\n",
    "reg_df = reg_df.rename(columns={'구  분':'EMD_KOR_NM'})"
   ]
  },
  {
   "cell_type": "code",
   "execution_count": 35,
   "metadata": {},
   "outputs": [
    {
     "data": {
      "text/plain": [
       "array(['서울', '관악산', '춘천', '철원', '속초', '원주', '대관령', '태백', '인제', '홍천', '대전',\n",
       "       '금산', '부여', '천안', '보령', '서산', '청주', '추풍령', '보은', '제천', '인천', '강화',\n",
       "       '수원', '이천', '양평', '광주', '장흥', '목포', '해남', '고흥', '완도', '여수', '전주',\n",
       "       '임실', '군산', '부안', '정읍', '남원', '장수', '부산', '밀양', '창원', '통영', '거제',\n",
       "       '진주', '산청', '남해', '거창', '합천', '울산', '제주', '고산', '서귀포', '대구', '구미',\n",
       "       '문경', '영주', '봉화', '안동', '영덕', '울진', '의성', '영천', '포항', '울릉도', '동해',\n",
       "       '영월', '흑산도', '동두천', '문산', '진도', '상주', '고창'], dtype=object)"
      ]
     },
     "execution_count": 35,
     "metadata": {},
     "output_type": "execute_result"
    }
   ],
   "source": [
    "reg_df['조사지역'].unique()"
   ]
  },
  {
   "cell_type": "code",
   "execution_count": null,
   "metadata": {},
   "outputs": [],
   "source": [
    "관악산, 대관령, 추풍령"
   ]
  }
 ],
 "metadata": {
  "interpreter": {
   "hash": "c30a374dc3544837fc911f7c0b3ae456a317ea7f3e663f35a3dd2f13c77dd4db"
  },
  "kernelspec": {
   "display_name": "Python 3.9.7 ('kdig')",
   "language": "python",
   "name": "python3"
  },
  "language_info": {
   "codemirror_mode": {
    "name": "ipython",
    "version": 3
   },
   "file_extension": ".py",
   "mimetype": "text/x-python",
   "name": "python",
   "nbconvert_exporter": "python",
   "pygments_lexer": "ipython3",
   "version": "3.9.7"
  },
  "orig_nbformat": 4
 },
 "nbformat": 4,
 "nbformat_minor": 2
}
